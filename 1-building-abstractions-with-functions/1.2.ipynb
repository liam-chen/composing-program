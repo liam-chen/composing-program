{
 "cells": [
  {
   "cell_type": "markdown",
   "id": "political-difference",
   "metadata": {},
   "source": [
    "# Elements of Promramming\n",
    "Every powerful language has three such mechanisms:\n",
    "\n",
    "- **primitive expressions and statements**, which represent the simplest building blocks that the language provides,\n",
    "- **means of combination**, by which compound elements are built from simpler ones, and\n",
    "- **means of abstraction**, by which compound elements can be named and manipulated as units."
   ]
  },
  {
   "cell_type": "markdown",
   "id": "worse-tennis",
   "metadata": {},
   "source": [
    "**expression** evaluation procedure. the right side in an assignment statement. \n",
    "\n",
    "**statement** statements are not evaluated but executed; they do not produce a value but instead make some change. "
   ]
  },
  {
   "cell_type": "markdown",
   "id": "silver-garage",
   "metadata": {},
   "source": [
    "### The Non-Pure Print Function\n",
    "- Chapter 4 will illustrate that pure functions are essential for writing concurrent programs\n",
    "- By contrast, Chapter 2 investigates a range of non-pure functions and describes their uses.\n"
   ]
  },
  {
   "cell_type": "code",
   "execution_count": null,
   "id": "descending-share",
   "metadata": {},
   "outputs": [],
   "source": []
  }
 ],
 "metadata": {
  "kernelspec": {
   "display_name": "Python 3",
   "language": "python",
   "name": "python3"
  },
  "language_info": {
   "codemirror_mode": {
    "name": "ipython",
    "version": 3
   },
   "file_extension": ".py",
   "mimetype": "text/x-python",
   "name": "python",
   "nbconvert_exporter": "python",
   "pygments_lexer": "ipython3",
   "version": "3.8.5"
  }
 },
 "nbformat": 4,
 "nbformat_minor": 5
}
