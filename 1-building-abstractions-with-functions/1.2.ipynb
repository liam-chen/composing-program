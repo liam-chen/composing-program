{
 "cells": [
  {
   "cell_type": "markdown",
   "id": "breeding-peoples",
   "metadata": {},
   "source": [
    "# Elements of Promramming\n",
    "Every powerful language has three such mechanisms:\n",
    "\n",
    "- **primitive expressions and statements**, which represent the simplest building blocks that the language provides,\n",
    "- **means of combination**, by which compound elements are built from simpler ones, and\n",
    "- **means of abstraction**, by which compound elements can be named and manipulated as units."
   ]
  },
  {
   "cell_type": "code",
   "execution_count": null,
   "id": "monetary-bracelet",
   "metadata": {},
   "outputs": [],
   "source": []
  },
  {
   "cell_type": "code",
   "execution_count": null,
   "id": "coral-alliance",
   "metadata": {},
   "outputs": [],
   "source": []
  },
  {
   "cell_type": "code",
   "execution_count": null,
   "id": "russian-custom",
   "metadata": {},
   "outputs": [],
   "source": []
  }
 ],
 "metadata": {
  "kernelspec": {
   "display_name": "Python 3",
   "language": "python",
   "name": "python3"
  },
  "language_info": {
   "codemirror_mode": {
    "name": "ipython",
    "version": 3
   },
   "file_extension": ".py",
   "mimetype": "text/x-python",
   "name": "python",
   "nbconvert_exporter": "python",
   "pygments_lexer": "ipython3",
   "version": "3.8.5"
  }
 },
 "nbformat": 4,
 "nbformat_minor": 5
}
